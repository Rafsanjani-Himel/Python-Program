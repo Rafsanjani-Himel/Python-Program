{
 "cells": [
  {
   "cell_type": "code",
   "execution_count": 9,
   "metadata": {},
   "outputs": [
    {
     "name": "stdout",
     "output_type": "stream",
     "text": [
      "67\n",
      "Rafsanjani\n"
     ]
    }
   ],
   "source": [
    "x=67\n",
    "y=\"Rafsanjani\"\n",
    "print(x)\n",
    "print(y)"
   ]
  },
  {
   "cell_type": "code",
   "execution_count": 11,
   "metadata": {},
   "outputs": [
    {
     "name": "stdout",
     "output_type": "stream",
     "text": [
      "Rafsanjani\n"
     ]
    }
   ],
   "source": [
    "x=67# x is integer type.\n",
    "x=\"Rafsanjani\" #x is string type\n",
    "print(x)"
   ]
  },
  {
   "cell_type": "code",
   "execution_count": 18,
   "metadata": {},
   "outputs": [
    {
     "name": "stdout",
     "output_type": "stream",
     "text": [
      "Rafsanjani\n",
      "Himel\n"
     ]
    }
   ],
   "source": [
    "#string can be declared single or double quotes\n",
    "x = \"Rafsanjani\"\n",
    "print(x)\n",
    "x = 'Himel'\n",
    "print(x)"
   ]
  },
  {
   "cell_type": "markdown",
   "metadata": {},
   "source": [
    "# Legel variable"
   ]
  },
  {
   "cell_type": "code",
   "execution_count": 27,
   "metadata": {},
   "outputs": [
    {
     "name": "stdout",
     "output_type": "stream",
     "text": [
      "Himel\n",
      "Himel\n",
      "Himel\n",
      "Himel\n",
      "Himel\n",
      "Himel\n",
      "Himel\n",
      "Himel\n"
     ]
    }
   ],
   "source": [
    "myvar=\"Himel\"\n",
    "print(myvar)\n",
    "\n",
    "MyVar=\"Himel\"\n",
    "print(MyVar)\n",
    "\n",
    "my_var=\"Himel\"\n",
    "print(my_var)\n",
    "\n",
    "my_Var=\"Himel\"\n",
    "print(my_Var)\n",
    "\n",
    "My_var=\"Himel\"\n",
    "print(My_var)\n",
    "\n",
    "My_Var=\"Himel\"\n",
    "print(My_Var)\n",
    "\n",
    "_my_var=\"Himel\"\n",
    "print(_my_var)\n",
    "\n",
    "myvar1=\"Himel\"\n",
    "print(myvar1)\n"
   ]
  },
  {
   "cell_type": "markdown",
   "metadata": {},
   "source": [
    "# Illegel variable"
   ]
  },
  {
   "cell_type": "code",
   "execution_count": 29,
   "metadata": {},
   "outputs": [
    {
     "ename": "SyntaxError",
     "evalue": "invalid syntax (<ipython-input-29-54fd8e99fafe>, line 1)",
     "output_type": "error",
     "traceback": [
      "\u001b[1;36m  File \u001b[1;32m\"<ipython-input-29-54fd8e99fafe>\"\u001b[1;36m, line \u001b[1;32m1\u001b[0m\n\u001b[1;33m    1myvar=\"himel\"\u001b[0m\n\u001b[1;37m         ^\u001b[0m\n\u001b[1;31mSyntaxError\u001b[0m\u001b[1;31m:\u001b[0m invalid syntax\n"
     ]
    }
   ],
   "source": [
    "1myvar=\"himel\"\n",
    "print(myvar)\n",
    "\n",
    "my-var=\"himel\"\n",
    "print(my-var)\n",
    "\n",
    "my var=\"himel\"\n",
    "print(my var)\n",
    "\n"
   ]
  },
  {
   "cell_type": "code",
   "execution_count": null,
   "metadata": {},
   "outputs": [],
   "source": []
  }
 ],
 "metadata": {
  "kernelspec": {
   "display_name": "Python 3",
   "language": "python",
   "name": "python3"
  },
  "language_info": {
   "codemirror_mode": {
    "name": "ipython",
    "version": 3
   },
   "file_extension": ".py",
   "mimetype": "text/x-python",
   "name": "python",
   "nbconvert_exporter": "python",
   "pygments_lexer": "ipython3",
   "version": "3.7.4"
  }
 },
 "nbformat": 4,
 "nbformat_minor": 2
}
